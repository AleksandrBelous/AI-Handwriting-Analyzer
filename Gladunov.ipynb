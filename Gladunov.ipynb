{
 "cells": [
  {
   "cell_type": "code",
   "execution_count": 18,
   "id": "8f9a3a83",
   "metadata": {},
   "outputs": [],
   "source": [
    "input_filename = 'input.txt'\n",
    "output_filename = 'output.txt'\n",
    "\n",
    "with open(input_filename, 'r') as file_in, open(output_filename, 'w') as file_out:\n",
    "    numbers = file_in.read().split()\n",
    "    for i in range(1, len(numbers) - 1):\n",
    "        if '.' in numbers[i]:\n",
    "            file_out.write(f\"{numbers[i-1]} {numbers[i]} {numbers[i+1]}\\n\")"
   ]
  },
  {
   "cell_type": "code",
   "execution_count": 30,
   "id": "fffa16af",
   "metadata": {
    "scrolled": true
   },
   "outputs": [
    {
     "name": "stderr",
     "output_type": "stream",
     "text": [
      "C:\\Users\\79789\\anaconda3\\envs\\tf2_env\\lib\\site-packages\\ipykernel_launcher.py:5: RuntimeWarning: overflow encountered in exp\n",
      "  \"\"\"\n"
     ]
    },
    {
     "name": "stdout",
     "output_type": "stream",
     "text": [
      "Общая точность прогнозов: 0.00\n"
     ]
    }
   ],
   "source": [
    "import numpy as np\n",
    "\n",
    "# Функция сигмоиды\n",
    "def sigmoid(x):\n",
    "    return 1 / (1 + np.exp(-x))\n",
    "\n",
    "# Производная функции сигмоиды\n",
    "def sigmoid_derivative(x):\n",
    "    return x * (1 - x)\n",
    "\n",
    "# Чтение данных из файла\n",
    "def read_data_from_file(file_name):\n",
    "    with open(file_name, 'r') as file:\n",
    "        data = np.array([[float(num) for num in line.split()] for line in file])\n",
    "    X = data[:, :-1]  # Признаки\n",
    "    Y = data[:, -1]   # Целевая переменная\n",
    "    return X, Y\n",
    "\n",
    "# Добавление столбца с единицами к матрице\n",
    "def add_ones_column(X):\n",
    "    return np.c_[np.ones(X.shape[0]), X]\n",
    "\n",
    "# Инициализация весов нейронной сети\n",
    "def initialize_weights(input_size, hidden_size, output_size):\n",
    "    np.random.seed(1)\n",
    "    weights_input_hidden = 2 * np.random.random((input_size, hidden_size)) - 1\n",
    "    weights_hidden_output = 2 * np.random.random((hidden_size, output_size)) - 1\n",
    "    return weights_input_hidden, weights_hidden_output\n",
    "\n",
    "# Обучение нейронной сети\n",
    "def train_neural_network(X_train, Y_train, weights_input_hidden, weights_hidden_output, epochs, learning_rate):\n",
    "    for epoch in range(epochs):\n",
    "        # Прямое распространение\n",
    "        hidden_layer_input = np.dot(X_train, weights_input_hidden)\n",
    "        hidden_layer_output = sigmoid(hidden_layer_input)\n",
    "\n",
    "        output_layer_input = np.dot(hidden_layer_output, weights_hidden_output)\n",
    "        output = sigmoid(output_layer_input)\n",
    "\n",
    "        # Обратное распространение\n",
    "        output_error = Y_train.reshape(-1, 1) - output\n",
    "        output_adjustment = output_error * sigmoid_derivative(output)\n",
    "\n",
    "        hidden_error = output_adjustment.dot(weights_hidden_output.T)\n",
    "        hidden_adjustment = hidden_error * sigmoid_derivative(hidden_layer_output)\n",
    "\n",
    "        weights_hidden_output += hidden_layer_output.T.dot(output_adjustment) * learning_rate\n",
    "        weights_input_hidden += X_train.T.dot(hidden_adjustment) * learning_rate\n",
    "\n",
    "    return weights_input_hidden, weights_hidden_output\n",
    "\n",
    "# Применение нейронной сети\n",
    "def predict(X, weights_input_hidden, weights_hidden_output):\n",
    "    hidden_layer_input = np.dot(X, weights_input_hidden)\n",
    "    hidden_layer_output = sigmoid(hidden_layer_input)\n",
    "\n",
    "    output_layer_input = np.dot(hidden_layer_output, weights_hidden_output)\n",
    "    output = sigmoid(output_layer_input)\n",
    "\n",
    "    return output\n",
    "\n",
    "# Вычисление общей точности прогнозов\n",
    "def calculate_accuracy(predicted_values, true_values):\n",
    "    correct_predictions = np.sum(predicted_values == true_values.reshape(-1, 1))\n",
    "    total_predictions = len(true_values)\n",
    "    accuracy = correct_predictions / total_predictions\n",
    "    return accuracy\n",
    "\n",
    "# Гиперпараметры\n",
    "input_size = 3\n",
    "hidden_size = 128\n",
    "output_size = 1\n",
    "epochs = 10000\n",
    "learning_rate = 0.1\n",
    "\n",
    "# Чтение данных\n",
    "X_train, Y_train = read_data_from_file('training_data.txt')\n",
    "X_test, Y_test = read_data_from_file('test_data.txt')\n",
    "\n",
    "# Добавление столбца с единицами\n",
    "X_train = add_ones_column(X_train)\n",
    "X_test = add_ones_column(X_test)\n",
    "\n",
    "# Инициализация весов\n",
    "weights_input_hidden, weights_hidden_output = initialize_weights(input_size, hidden_size, output_size)\n",
    "\n",
    "# Обучение нейронной сети\n",
    "weights_input_hidden, weights_hidden_output = train_neural_network(X_train, Y_train, weights_input_hidden, weights_hidden_output, epochs, learning_rate)\n",
    "\n",
    "# Применение нейронной сети к тестовым данным\n",
    "test_outputs = predict(X_test, weights_input_hidden, weights_hidden_output)\n",
    "\n",
    "# Конвертируем выходы в бинарные значения (0 или 1)\n",
    "predicted_values = np.where(test_outputs >= 0.5, 1, 0)\n",
    "\n",
    "# Вычисляем общую точность прогнозов\n",
    "accuracy = calculate_accuracy(predicted_values, Y_test)\n",
    "print(\"Общая точность прогнозов: {:.2f}\".format(accuracy))"
   ]
  }
 ],
 "metadata": {
  "kernelspec": {
   "display_name": "Python 3 (ipykernel)",
   "language": "python",
   "name": "python3"
  },
  "language_info": {
   "codemirror_mode": {
    "name": "ipython",
    "version": 3
   },
   "file_extension": ".py",
   "mimetype": "text/x-python",
   "name": "python",
   "nbconvert_exporter": "python",
   "pygments_lexer": "ipython3",
   "version": "3.7.16"
  }
 },
 "nbformat": 4,
 "nbformat_minor": 5
}
