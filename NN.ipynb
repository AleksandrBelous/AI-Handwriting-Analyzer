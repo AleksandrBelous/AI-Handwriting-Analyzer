{
 "cells": [
  {
   "cell_type": "code",
   "execution_count": 1,
   "metadata": {},
   "outputs": [],
   "source": [
    "import tensorflow as tf\n",
    "from tensorflow.keras import layers, models\n",
    "from sklearn.model_selection import train_test_split\n",
    "import numpy as np"
   ]
  },
  {
   "cell_type": "code",
   "execution_count": 2,
   "metadata": {},
   "outputs": [],
   "source": [
    "# сформируем скомпрометированные датасеты\n",
    "with open('datasets.txt', 'r') as file:\n",
    "    records = [line.rstrip().split(' ') for line in file]\n",
    "# print(type(records))\n",
    "for line in records:\n",
    "    # print(line)\n",
    "    for i in range(len(line)):\n",
    "        if '.' in line[i]:\n",
    "            line[i] = '99999.0'\n",
    "    # print(line)\n",
    "# for line in records:\n",
    "    # print(line)\n",
    "with open('datasets_bad.txt', 'w') as file:\n",
    "    for line in records:\n",
    "        s = ' '.join(line) + '\\n'\n",
    "        file.write(s)\n"
   ]
  },
  {
   "cell_type": "code",
   "execution_count": 3,
   "metadata": {},
   "outputs": [],
   "source": [
    "def get_X(datasets_file: str):\n",
    "    with open(datasets_file, 'r') as file:\n",
    "        records = [line.rstrip().split() for line in file]\n",
    "    X = []\n",
    "    for line in records:\n",
    "        if (n := len(line)) > 1:\n",
    "            # print(line)\n",
    "            for i in range(0, n - 2, 2):\n",
    "                X.append(np.array([np.float32(x) for x in line[i:i + 2 + 1]]))\n",
    "        else:\n",
    "            x = line[0]\n",
    "            X.append(np.array([np.float32(x), np.random.uniform(0.0001, 0.05), np.float32(x)]))\n",
    "    X = np.vstack(X)\n",
    "    return X"
   ]
  },
  {
   "cell_type": "code",
   "execution_count": 4,
   "metadata": {},
   "outputs": [
    {
     "data": {
      "text/plain": [
       "(40684, 3)"
      ]
     },
     "execution_count": 4,
     "metadata": {},
     "output_type": "execute_result"
    }
   ],
   "source": [
    "X = get_X('datasets.txt')\n",
    "X.shape"
   ]
  },
  {
   "cell_type": "code",
   "execution_count": 5,
   "metadata": {},
   "outputs": [
    {
     "data": {
      "text/plain": [
       "(81368, 3)"
      ]
     },
     "execution_count": 5,
     "metadata": {},
     "output_type": "execute_result"
    }
   ],
   "source": [
    "X_bad = get_X('datasets_bad.txt')\n",
    "X = np.vstack((X, X_bad))\n",
    "X.shape"
   ]
  },
  {
   "cell_type": "code",
   "execution_count": 6,
   "metadata": {},
   "outputs": [],
   "source": [
    "def get_y(X):\n",
    "    # Создание маски, которая проверяет наличие 99999.0 в строках X\n",
    "    mask1 = (X[:, 1] == 99999.0)\n",
    "    mask2 = (X[:, 1] < 0.05)\n",
    "    mask = mask1 | mask2\n",
    "\n",
    "    # Создание y на основе маски\n",
    "    y = mask.astype(int)\n",
    "\n",
    "    # # Дополнительный вывод для проверки правильности соответствия\n",
    "    # print(\"\\nПроверка соответствия:\")\n",
    "    # for i in range(X.shape[0]):\n",
    "    #     if y[i] == 0:\n",
    "    #         print(f\"Строка {i+1} в X: {X[i]} -> метка в y: {y[i]}\")\n",
    "    return np.array(y)"
   ]
  },
  {
   "cell_type": "code",
   "execution_count": 7,
   "metadata": {},
   "outputs": [
    {
     "data": {
      "text/plain": [
       "(81368,)"
      ]
     },
     "execution_count": 7,
     "metadata": {},
     "output_type": "execute_result"
    }
   ],
   "source": [
    "y = get_y(X)\n",
    "y.shape"
   ]
  },
  {
   "cell_type": "code",
   "execution_count": 8,
   "metadata": {},
   "outputs": [],
   "source": [
    "def norm_bad_datasemples(X):\n",
    "    mask = (X[:, 1] == 99999.0)\n",
    "    X[mask, 1] = np.float32(np.random.uniform(2.0, 4.0, size=np.sum(mask)))\n",
    "    return X"
   ]
  },
  {
   "cell_type": "code",
   "execution_count": 9,
   "metadata": {},
   "outputs": [],
   "source": [
    "X = norm_bad_datasemples(X)"
   ]
  },
  {
   "cell_type": "code",
   "execution_count": 10,
   "metadata": {},
   "outputs": [],
   "source": [
    "X_train, X_test, y_train, y_test = train_test_split(X, y, train_size=0.7, random_state=42)"
   ]
  },
  {
   "cell_type": "code",
   "execution_count": 11,
   "metadata": {},
   "outputs": [
    {
     "name": "stdout",
     "output_type": "stream",
     "text": [
      "(56957, 3) (56957,) (24411, 3) (24411,)\n"
     ]
    }
   ],
   "source": [
    "print(X_train.shape, y_train.shape, X_test.shape, y_test.shape)"
   ]
  },
  {
   "cell_type": "code",
   "execution_count": 12,
   "metadata": {},
   "outputs": [
    {
     "name": "stderr",
     "output_type": "stream",
     "text": [
      "2024-05-20 23:04:02.070647: I tensorflow/core/common_runtime/process_util.cc:146] Creating new thread pool with default inter op setting: 2. Tune using inter_op_parallelism_threads for best performance.\n"
     ]
    },
    {
     "name": "stdout",
     "output_type": "stream",
     "text": [
      "Epoch 1/10\n",
      "1246/1246 [==============================] - 10s 7ms/step - loss: 1580.9990 - accuracy: 0.5168 - val_loss: 15.3842 - val_accuracy: 0.7353\n",
      "Epoch 2/10\n",
      "1246/1246 [==============================] - 8s 6ms/step - loss: 23.5384 - accuracy: 0.5559 - val_loss: 11.3010 - val_accuracy: 0.5527\n",
      "Epoch 3/10\n",
      "1246/1246 [==============================] - 8s 6ms/step - loss: 25.2015 - accuracy: 0.5939 - val_loss: 5.9038 - val_accuracy: 0.7671\n",
      "Epoch 4/10\n",
      "1246/1246 [==============================] - 8s 6ms/step - loss: 18.7659 - accuracy: 0.6205 - val_loss: 4.6527 - val_accuracy: 0.7278\n",
      "Epoch 5/10\n",
      "1246/1246 [==============================] - 7s 6ms/step - loss: 13.8854 - accuracy: 0.6463 - val_loss: 24.7720 - val_accuracy: 0.6543\n",
      "Epoch 6/10\n",
      "1246/1246 [==============================] - 12s 10ms/step - loss: 18.1563 - accuracy: 0.6536 - val_loss: 9.2268 - val_accuracy: 0.7385\n",
      "Epoch 7/10\n",
      "1246/1246 [==============================] - 10s 8ms/step - loss: 16.0579 - accuracy: 0.6630 - val_loss: 0.8428 - val_accuracy: 0.7880\n",
      "Epoch 8/10\n",
      "1246/1246 [==============================] - 9s 7ms/step - loss: 15.9702 - accuracy: 0.6868 - val_loss: 2.3848 - val_accuracy: 0.7946\n",
      "Epoch 9/10\n",
      "1246/1246 [==============================] - 12s 10ms/step - loss: 15.3033 - accuracy: 0.6785 - val_loss: 1.8492 - val_accuracy: 0.8685\n",
      "Epoch 10/10\n",
      "1246/1246 [==============================] - 9s 7ms/step - loss: 19.9619 - accuracy: 0.6968 - val_loss: 132.9079 - val_accuracy: 0.5441\n",
      "763/763 [==============================] - 4s 5ms/step - loss: 119.2640 - accuracy: 0.5488\n",
      "Test Accuracy: 0.5488\n"
     ]
    }
   ],
   "source": [
    "# Создание модели\n",
    "model = models.Sequential([\n",
    "    layers.Dense(16, input_shape=(3,), activation='relu'),\n",
    "    # layers.Dense(16, activation='relu'),\n",
    "    layers.Dense(1, activation='sigmoid')\n",
    "])\n",
    "\n",
    "# Компиляция модели\n",
    "model.compile(optimizer='adam', loss='binary_crossentropy', metrics=['accuracy'])\n",
    "\n",
    "# Обучение модели\n",
    "model.fit(X_train, y_train, epochs=10, batch_size=32, validation_split=0.3)\n",
    "\n",
    "# Оценка модели\n",
    "loss, accuracy = model.evaluate(X_test, y_test)\n",
    "print(f\"Test Accuracy: {accuracy:.4f}\")"
   ]
  },
  {
   "cell_type": "code",
   "execution_count": 13,
   "metadata": {},
   "outputs": [
    {
     "name": "stdout",
     "output_type": "stream",
     "text": [
      "1/1 [==============================] - 0s 91ms/step\n",
      "Prediction for [[4.6000e+04 2.0001e+00 1.0800e+04]]: 0.0000\n",
      "1/1 [==============================] - 0s 28ms/step\n",
      "Prediction for [[4.600e+04 1.801e+00 1.080e+04]]: 0.0000\n",
      "1/1 [==============================] - 0s 46ms/step\n",
      "Prediction for [[4.6000e+04 1.5009e+00 1.0800e+04]]: 0.0000\n",
      "1/1 [==============================] - 0s 27ms/step\n",
      "Prediction for [[4.60e+04 1.19e+00 1.08e+04]]: 0.0000\n",
      "1/1 [==============================] - 0s 35ms/step\n",
      "Prediction for [[4.60e+04 9.99e-01 1.08e+04]]: 0.0000\n",
      "1/1 [==============================] - 0s 34ms/step\n",
      "Prediction for [[4.60e+04 7.01e-01 1.08e+04]]: 0.0000\n",
      "1/1 [==============================] - 0s 49ms/step\n",
      "Prediction for [[4.600e+04 5.013e-01 1.080e+04]]: 0.0000\n",
      "1/1 [==============================] - 0s 37ms/step\n",
      "Prediction for [[4.600e+04 2.011e-01 1.080e+04]]: 0.0000\n",
      "1/1 [==============================] - 0s 34ms/step\n",
      "Prediction for [[4.6000e+04 1.0035e-01 1.0800e+04]]: 0.0000\n",
      "1/1 [==============================] - 0s 38ms/step\n",
      "Prediction for [[4.60e+04 9.01e-02 1.08e+04]]: 0.0000\n",
      "1/1 [==============================] - 0s 41ms/step\n",
      "Prediction for [[4.60e+04 7.01e-02 1.08e+04]]: 0.0000\n",
      "1/1 [==============================] - 0s 30ms/step\n",
      "Prediction for [[4.60e+04 5.01e-02 1.08e+04]]: 0.0000\n",
      "1/1 [==============================] - 0s 40ms/step\n",
      "Prediction for [[4.60e+04 3.01e-02 1.08e+04]]: 0.0000\n",
      "1/1 [==============================] - 0s 32ms/step\n",
      "Prediction for [[4.60e+04 1.01e-02 1.08e+04]]: 0.0000\n",
      "1/1 [==============================] - 0s 58ms/step\n",
      "Prediction for [[4.60e+04 9.10e-03 1.08e+04]]: 0.0000\n",
      "1/1 [==============================] - 0s 37ms/step\n",
      "Prediction for [[4.60e+04 7.10e-03 1.08e+04]]: 0.0000\n"
     ]
    }
   ],
   "source": [
    "# Пример предсказания\n",
    "examples = np.array([[[46000, 2.0001, 10800]],\n",
    "                    [[46000, 1.801, 10800]],\n",
    "                    [[46000, 1.5009, 10800]],\n",
    "                    [[46000, 1.19, 10800]],\n",
    "                    [[46000, 0.999, 10800]],\n",
    "                    [[46000, 0.701, 10800]],\n",
    "                    [[46000, 0.5013, 10800]],\n",
    "                    [[46000, 0.2011, 10800]],\n",
    "                    [[46000, 0.10035, 10800]],\n",
    "                    [[46000, 0.0901, 10800]],\n",
    "                    [[46000, 0.0701, 10800]],\n",
    "                    [[46000, 0.0501, 10800]],\n",
    "                    [[46000, 0.0301, 10800]],\n",
    "                    [[46000, 0.0101, 10800]],\n",
    "                    [[46000, 0.0091, 10800]],\n",
    "                    [[46000, 0.0071, 10800]]])\n",
    "for example in examples:\n",
    "    prediction = model.predict(example)\n",
    "    print(f\"Prediction for {example}: {prediction[0][0]:.4f}\")"
   ]
  },
  {
   "cell_type": "code",
   "execution_count": 18,
   "metadata": {},
   "outputs": [
    {
     "name": "stdout",
     "output_type": "stream",
     "text": [
      "13300 [1.21000000e+04 1.08630002e-01 1.16000000e+04] 0\n",
      "13301 [9.80000000e+04 2.91245762e-02 9.80000000e+04] 1\n",
      "13302 [1.03000000e+04 2.02934384e+00 1.06000000e+04] 1\n",
      "13303 [1.15000000e+04 3.12919729e-02 1.15000000e+04] 1\n",
      "13304 [1.2200000e+04 3.2776351e-02 1.2200000e+04] 1\n",
      "13305 [1.0100000e+04 2.4682591e+00 6.5506000e+04] 1\n",
      "13306 [6.55060000e+04 3.61827707e+00 6.30000000e+04] 1\n",
      "13307 [1.16000000e+04 1.09030001e-01 1.04000000e+04] 0\n",
      "13308 [1.0200000e+04 2.5388906e+00 9.9000000e+04] 1\n",
      "13309 [1.03000000e+04 4.99975909e-02 1.03000000e+04] 1\n",
      "13310 [1.08000000e+04 3.42893672e+00 1.21000000e+04] 1\n",
      "13311 [1.0500e+04 2.0803e-01 1.0200e+04] 0\n",
      "13312 [1.18000000e+04 3.18359852e+00 1.06000000e+04] 1\n",
      "13313 [1.17000000e+04 7.50310004e-01 6.55060000e+04] 0\n",
      "13314 [1.14000000e+04 2.11225152e+00 1.07000000e+04] 1\n",
      "13315 [1.030000e+04 2.221102e+00 1.120000e+04] 1\n",
      "13316 [6.55050000e+04 8.82932503e-03 6.55050000e+04] 1\n",
      "13317 [4.40000000e+04 3.11969995e-01 1.04000000e+04] 0\n",
      "13318 [9.80000000e+04 1.81989998e-01 1.21000000e+04] 0\n",
      "13319 [1.01000000e+04 3.71096826e+00 5.90000000e+04] 1\n",
      "13320 [1.0200000e+04 2.9102999e-01 1.0700000e+04] 0\n",
      "13321 [9.9000000e+04 3.3352716e+00 1.0800000e+04] 1\n",
      "13322 [1.16000000e+04 1.23980001e-01 1.21000000e+04] 0\n",
      "13323 [4.40000000e+04 2.85970002e-01 1.02000000e+04] 0\n",
      "13324 [1.18000000e+04 1.44950002e-01 1.21000000e+04] 0\n",
      "13325 [9.70000000e+04 3.46418643e+00 1.12000000e+04] 1\n",
      "13326 [1.01000000e+04 2.69800007e-01 1.14000000e+04] 0\n",
      "13327 [1.04000000e+04 4.77470011e-01 1.14000000e+04] 0\n",
      "13328 [6.55050000e+04 7.16949999e-01 3.80000000e+04] 0\n",
      "13329 [4.80000000e+04 2.51766109e+00 6.55050000e+04] 1\n",
      "13330 [9.80000000e+04 3.30293727e+00 1.18000000e+04] 1\n",
      "13331 [6.55060000e+04 1.88703305e-02 6.55060000e+04] 1\n",
      "13332 [4.80000000e+04 1.29940003e-01 4.80000000e+04] 0\n",
      "13333 [1.05000000e+04 5.46000004e-01 1.16000000e+04] 0\n",
      "13334 [6.55050000e+04 2.99021339e+00 7.50000000e+04] 1\n",
      "13335 [1.21000000e+04 2.11834025e+00 1.21000000e+04] 1\n",
      "13336 [5.60000000e+04 8.28500018e-02 4.80000000e+04] 0\n",
      "13337 [9.80000000e+04 3.74110013e-01 1.07000000e+04] 0\n",
      "13338 [1.1000000e+04 3.7703476e+00 1.0900000e+04] 1\n",
      "13339 [1.02000000e+04 3.87521713e-02 1.02000000e+04] 1\n",
      "13340 [1.18000000e+04 3.29524875e+00 1.16000000e+04] 1\n",
      "13341 [9.8000e+04 2.4402e-01 1.1400e+04] 0\n",
      "13342 [6.55050000e+04 5.41149974e-01 9.40000000e+04] 0\n",
      "13343 [9.70000000e+04 3.28756857e+00 1.10000000e+04] 1\n",
      "13344 [1.01000000e+04 1.89180002e-01 4.40000000e+04] 0\n",
      "13345 [1.15000000e+04 3.70693278e+00 1.19000000e+04] 1\n",
      "13346 [1.06000000e+04 3.49522996e+00 4.40000000e+04] 1\n",
      "13347 [9.80000000e+04 2.83063006e+00 1.00000000e+04] 1\n",
      "13348 [1.06000000e+04 1.46149993e-01 1.00000000e+04] 0\n",
      "13349 [1.20000000e+04 3.35216522e+00 1.02000000e+04] 1\n",
      "13350 [7.00000000e+04 2.80939996e-01 8.00000000e+04] 0\n",
      "13351 [1.14000000e+04 2.03109995e-01 1.00000000e+04] 0\n",
      "13352 [9.800000e+04 8.617654e-03 9.800000e+04] 1\n",
      "13353 [1.12000000e+04 2.41956091e+00 4.50000000e+04] 1\n",
      "13354 [1.13000000e+04 1.45860001e-01 1.21000000e+04] 0\n",
      "13355 [1.07000000e+04 3.64630532e+00 1.22000000e+04] 1\n",
      "13356 [1.00000000e+04 3.97216082e+00 1.16000000e+04] 1\n",
      "13357 [1.15000000e+04 3.25203395e+00 4.40000000e+04] 1\n",
      "13358 [1.04000000e+04 3.04566002e+00 1.16000000e+04] 1\n",
      "13359 [1.02000000e+04 2.48269057e+00 1.12000000e+04] 1\n",
      "13360 [1.04000000e+04 3.37047672e+00 1.02000000e+04] 1\n",
      "13361 [1.1500000e+04 1.9364906e-02 1.1500000e+04] 1\n",
      "13362 [9.80000000e+04 1.60999998e-01 1.22000000e+04] 0\n",
      "13363 [1.01000000e+04 3.75133109e+00 1.17000000e+04] 1\n",
      "13364 [1.16000000e+04 3.12079996e-01 9.10000000e+04] 0\n",
      "13365 [1.0000000e+04 3.3100841e+00 9.8000000e+04] 1\n",
      "13366 [6.5506000e+04 2.1280694e+00 4.1000000e+04] 1\n",
      "13367 [1.04000000e+04 3.33050013e-01 1.02000000e+04] 0\n",
      "13368 [1.04000000e+04 2.28919998e-01 1.06000000e+04] 0\n",
      "13369 [9.90000000e+04 2.23665023e+00 1.18000000e+04] 1\n",
      "13370 [1.22000000e+04 3.84211192e-02 1.22000000e+04] 1\n",
      "13371 [1.21000000e+04 3.98458481e+00 1.16000000e+04] 1\n",
      "13372 [4.40000000e+04 2.23644423e+00 1.15000000e+04] 1\n",
      "13373 [6.55050000e+04 3.01921749e+00 7.60000000e+04] 1\n",
      "13374 [1.02000000e+04 2.52094316e+00 9.90000000e+04] 1\n",
      "13375 [1.20000000e+04 3.09344387e+00 1.14000000e+04] 1\n",
      "13376 [1.10000000e+04 1.76850006e-01 1.04000000e+04] 0\n",
      "13377 [1.08000000e+04 3.07579088e+00 1.15000000e+04] 1\n",
      "13378 [1.02000000e+04 1.87969998e-01 1.11000000e+04] 0\n",
      "13379 [1.06000000e+04 2.45081758e+00 1.21000000e+04] 1\n",
      "13380 [1.03000000e+04 2.58137822e+00 1.06000000e+04] 1\n",
      "13381 [1.12000000e+04 2.27735424e+00 1.11000000e+04] 1\n",
      "13382 [1.02000000e+04 1.97050005e-01 1.08000000e+04] 0\n",
      "13383 [6.55050000e+04 3.62955117e+00 7.40000000e+04] 1\n",
      "13384 [6.55050000e+04 1.56049997e-01 7.70000000e+04] 0\n",
      "13385 [1.02000000e+04 4.16060001e-01 1.14000000e+04] 0\n",
      "13386 [1.03000000e+04 1.19910002e-01 1.06000000e+04] 0\n",
      "13387 [1.04000000e+04 2.33830005e-01 1.00000000e+04] 0\n",
      "13388 [1.08000000e+04 3.08457756e+00 1.06000000e+04] 1\n",
      "13389 [1.00000000e+04 2.02790007e-01 1.16000000e+04] 0\n",
      "13390 [1.07000000e+04 5.11300005e-02 1.16000000e+04] 0\n",
      "13391 [1.01000000e+04 3.08625221e+00 1.08000000e+04] 1\n",
      "13392 [1.2100000e+04 3.7028234e+00 9.8000000e+04] 1\n",
      "13393 [1.06000000e+04 1.56000003e-01 1.07000000e+04] 0\n",
      "13394 [9.80000000e+04 3.61031008e+00 1.18000000e+04] 1\n",
      "13395 [1.02000000e+04 2.49611139e+00 4.60000000e+04] 1\n",
      "13396 [6.55060000e+04 2.00698209e+00 3.30000000e+04] 1\n",
      "13397 [9.90000000e+04 2.69630015e-01 9.70000000e+04] 0\n",
      "13398 [1.16000000e+04 2.42086005e+00 1.08000000e+04] 1\n",
      "13399 [1.02000000e+04 2.07399994e-01 1.00000000e+04] 0\n"
     ]
    }
   ],
   "source": [
    "for i in range(13300, 13400):\n",
    "    print(i, X_train[i], y_train[i])"
   ]
  },
  {
   "cell_type": "code",
   "execution_count": 15,
   "metadata": {},
   "outputs": [
    {
     "data": {
      "text/plain": [
       "(6995,)"
      ]
     },
     "execution_count": 15,
     "metadata": {},
     "output_type": "execute_result"
    }
   ],
   "source": [
    "mask = (X[:, 1] < 0.05)\n",
    "mins = X[mask, 1]\n",
    "mins.shape"
   ]
  },
  {
   "cell_type": "code",
   "execution_count": 16,
   "metadata": {},
   "outputs": [
    {
     "data": {
      "text/plain": [
       "array([0.00010153, 0.00010777, 0.00011247, ..., 0.04998853, 0.04999321,\n",
       "       0.04999759])"
      ]
     },
     "execution_count": 16,
     "metadata": {},
     "output_type": "execute_result"
    }
   ],
   "source": [
    "mins.sort()\n",
    "mins"
   ]
  },
  {
   "cell_type": "code",
   "execution_count": 17,
   "metadata": {},
   "outputs": [
    {
     "name": "stdout",
     "output_type": "stream",
     "text": [
      "0.00010153466250313222\n"
     ]
    }
   ],
   "source": [
    "print(np.min(mins))"
   ]
  },
  {
   "cell_type": "code",
   "execution_count": null,
   "metadata": {},
   "outputs": [],
   "source": []
  }
 ],
 "metadata": {
  "kernelspec": {
   "display_name": "tf",
   "language": "python",
   "name": "tf"
  },
  "language_info": {
   "codemirror_mode": {
    "name": "ipython",
    "version": 3
   },
   "file_extension": ".py",
   "mimetype": "text/x-python",
   "name": "python",
   "nbconvert_exporter": "python",
   "pygments_lexer": "ipython3",
   "version": "3.11.5"
  }
 },
 "nbformat": 4,
 "nbformat_minor": 2
}
