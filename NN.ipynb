{
 "cells": [
  {
   "cell_type": "code",
   "execution_count": 2,
   "metadata": {},
   "outputs": [],
   "source": [
    "import tensorflow as tf\n",
    "from tensorflow.keras import layers, models\n",
    "import numpy as np"
   ]
  },
  {
   "cell_type": "code",
   "execution_count": 3,
   "metadata": {},
   "outputs": [],
   "source": [
    "class NN:\n",
    "    def __init__(self):\n",
    "        self.train_labels = None\n",
    "        self.train_sequences = None\n",
    "        self.model = models.Sequential(\n",
    "                [\n",
    "                        # Маскирование нулевых значений во входных данных\n",
    "                        layers.Masking(mask_value=0.0, input_shape=(None, 1)),\n",
    "                        # LSTM слой с 64 нейронами\n",
    "                        layers.LSTM(64),\n",
    "                        # Выходной слой с сигмоидной активацией для двоичной классификации\n",
    "                        layers.Dense(1, activation='sigmoid')\n",
    "                        ]\n",
    "                )\n",
    "\n",
    "    def compile_NN(self):\n",
    "        self.model.compile(optimizer='adam',\n",
    "                           loss='binary_crossentropy',\n",
    "                           metrics=['accuracy']\n",
    "                           )\n",
    "\n",
    "    def get_random_datasets(self):\n",
    "        self.train_sequences = [np.random.rand(np.random.randint(1, 10), 1) for _ in range(100)]\n",
    "        self.train_labels = np.random.randint(2, size=100)\n",
    "\n",
    "    def teach_NN(self):\n",
    "        self.model.fit(self.train_sequences, self.train_labels, epochs=10, batch_size=32)\n",
    "\n",
    "    def get_prediction(self, sequence):\n",
    "        # new_sequence = np.random.rand(np.random.randint(1, 10), 1)\n",
    "        prediction = self.model.predict(np.array([sequence]))\n",
    "        print(\"Similarity:\", prediction[0][0])\n",
    "\n",
    "\n",
    "if __name__ == '__main__':\n",
    "    ...\n"
   ]
  }
 ],
 "metadata": {
  "kernelspec": {
   "display_name": ".venv",
   "language": "python",
   "name": "python3"
  },
  "language_info": {
   "codemirror_mode": {
    "name": "ipython",
    "version": 3
   },
   "file_extension": ".py",
   "mimetype": "text/x-python",
   "name": "python",
   "nbconvert_exporter": "python",
   "pygments_lexer": "ipython3",
   "version": "3.10.13"
  }
 },
 "nbformat": 4,
 "nbformat_minor": 2
}
