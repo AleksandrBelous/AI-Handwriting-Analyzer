{
 "cells": [
  {
   "cell_type": "code",
   "execution_count": 1,
   "metadata": {},
   "outputs": [],
   "source": [
    "import tensorflow as tf\n",
    "from tensorflow.keras import layers, models\n",
    "from sklearn.model_selection import train_test_split\n",
    "import numpy as np"
   ]
  },
  {
   "cell_type": "code",
   "execution_count": 2,
   "metadata": {},
   "outputs": [],
   "source": [
    "# сформируем скомпрометированные датасеты\n",
    "with open('datasets.txt', 'r') as file:\n",
    "    records = [line.rstrip().split(' ') for line in file]\n",
    "# print(type(records))\n",
    "for line in records:\n",
    "    # print(line)\n",
    "    for i in range(len(line)):\n",
    "        if '.' in line[i]:\n",
    "            line[i] = '99999.0'\n",
    "    # print(line)\n",
    "# for line in records:\n",
    "    # print(line)\n",
    "with open('datasets_bad_long.txt', 'w') as file:\n",
    "    for line in records:\n",
    "        s = ' '.join(line) + '\\n'\n",
    "        file.write(s)\n",
    "\n",
    "with open('datasets.txt', 'r') as file:\n",
    "    records = [line.rstrip().split(' ') for line in file]\n",
    "# print(type(records))\n",
    "for line in records:\n",
    "    # print(line)\n",
    "    for i in range(len(line)):\n",
    "        if '.' in line[i]:\n",
    "            line[i] = str(np.float32(np.random.uniform(0.0001, 0.05)))\n",
    "    # print(line)\n",
    "# for line in records:\n",
    "    # print(line)\n",
    "with open('datasets_bad_short.txt', 'w') as file:\n",
    "    for line in records:\n",
    "        s = ' '.join(line) + '\\n'\n",
    "        file.write(s)"
   ]
  },
  {
   "cell_type": "code",
   "execution_count": 3,
   "metadata": {},
   "outputs": [],
   "source": [
    "def get_X(datasets_file: str):\n",
    "    with open(datasets_file, 'r') as file:\n",
    "        records = [line.rstrip().split() for line in file]\n",
    "    X = []\n",
    "    for line in records:\n",
    "        if (n := len(line)) > 1:\n",
    "            # print(line)\n",
    "            for i in range(0, n - 2, 2):\n",
    "                X.append(np.array([np.float32(x) for x in line[i:i + 2 + 1]]))\n",
    "        else:\n",
    "            x = line[0]\n",
    "            X.append(np.array([np.float32(x), np.float32(np.random.uniform(0.0001, 0.05)), np.float32(x)]))\n",
    "    X = np.vstack(X)\n",
    "    return X"
   ]
  },
  {
   "cell_type": "code",
   "execution_count": 4,
   "metadata": {},
   "outputs": [
    {
     "data": {
      "text/plain": [
       "(40697, 3)"
      ]
     },
     "execution_count": 4,
     "metadata": {},
     "output_type": "execute_result"
    }
   ],
   "source": [
    "X = get_X('datasets.txt')\n",
    "X.shape"
   ]
  },
  {
   "cell_type": "code",
   "execution_count": 5,
   "metadata": {},
   "outputs": [
    {
     "data": {
      "text/plain": [
       "(81394, 3)"
      ]
     },
     "execution_count": 5,
     "metadata": {},
     "output_type": "execute_result"
    }
   ],
   "source": [
    "X = np.vstack((X, get_X('datasets_bad_long.txt')))\n",
    "X.shape"
   ]
  },
  {
   "cell_type": "code",
   "execution_count": 6,
   "metadata": {},
   "outputs": [
    {
     "data": {
      "text/plain": [
       "(122091, 3)"
      ]
     },
     "execution_count": 6,
     "metadata": {},
     "output_type": "execute_result"
    }
   ],
   "source": [
    "X = np.vstack((X, get_X('datasets_bad_short.txt')))\n",
    "X.shape"
   ]
  },
  {
   "cell_type": "code",
   "execution_count": 7,
   "metadata": {},
   "outputs": [],
   "source": [
    "def get_y(X):\n",
    "    # Создание маски, которая проверяет наличие 99999.0 в строках X\n",
    "    mask1 = (X[:, 1] == 99999.0)\n",
    "    mask2 = (X[:, 1] < 0.05)\n",
    "    mask = mask1 | mask2\n",
    "\n",
    "    # Создание y на основе маски\n",
    "    y = mask.astype(int)\n",
    "\n",
    "    # # Дополнительный вывод для проверки правильности соответствия\n",
    "    # print(\"\\nПроверка соответствия:\")\n",
    "    # for i in range(X.shape[0]):\n",
    "    #     if y[i] == 0:\n",
    "    #         print(f\"Строка {i+1} в X: {X[i]} -> метка в y: {y[i]}\")\n",
    "    return np.array(y)"
   ]
  },
  {
   "cell_type": "code",
   "execution_count": 8,
   "metadata": {},
   "outputs": [
    {
     "data": {
      "text/plain": [
       "(122091,)"
      ]
     },
     "execution_count": 8,
     "metadata": {},
     "output_type": "execute_result"
    }
   ],
   "source": [
    "y = get_y(X)\n",
    "y.shape"
   ]
  },
  {
   "cell_type": "code",
   "execution_count": 9,
   "metadata": {},
   "outputs": [],
   "source": [
    "def norm_bad_datasemples(X):\n",
    "    mask = (X[:, 1] == 99999.0)\n",
    "    X[mask, 1] = np.float32(np.random.uniform(2.0, 4.0, size=np.sum(mask)))\n",
    "    return X"
   ]
  },
  {
   "cell_type": "code",
   "execution_count": 10,
   "metadata": {},
   "outputs": [],
   "source": [
    "X = norm_bad_datasemples(X)"
   ]
  },
  {
   "cell_type": "code",
   "execution_count": 11,
   "metadata": {},
   "outputs": [],
   "source": [
    "X_train, X_test, y_train, y_test = train_test_split(X, y, train_size=0.8, random_state=42)"
   ]
  },
  {
   "cell_type": "code",
   "execution_count": 12,
   "metadata": {},
   "outputs": [
    {
     "name": "stdout",
     "output_type": "stream",
     "text": [
      "(97672, 3) (97672,) (24419, 3) (24419,)\n"
     ]
    }
   ],
   "source": [
    "print(X_train.shape, y_train.shape, X_test.shape, y_test.shape)"
   ]
  },
  {
   "cell_type": "code",
   "execution_count": 13,
   "metadata": {},
   "outputs": [
    {
     "name": "stdout",
     "output_type": "stream",
     "text": [
      "1: Test Accuracy: 0.6947\n",
      "2: Test Accuracy: 0.6077\n"
     ]
    }
   ],
   "source": [
    "# Создание модели\n",
    "modls = []\n",
    "for i in range(1, 3):\n",
    "    model = models.Sequential([\n",
    "        layers.Dense(i, input_shape=(3,), activation='relu'),\n",
    "        # layers.Dense(16, activation='relu'),\n",
    "        layers.Dense(1, activation='sigmoid')\n",
    "    ])\n",
    "\n",
    "    # Компиляция модели\n",
    "    model.compile(optimizer='adam', loss='binary_crossentropy', metrics=['accuracy'])\n",
    "\n",
    "    # Обучение модели\n",
    "    model.fit(X_train, y_train, epochs=10, batch_size=32, validation_split=0.3, verbose=False)\n",
    "\n",
    "    # Оценка модели\n",
    "    loss, accuracy = model.evaluate(X_test, y_test, verbose=False)\n",
    "    print(f\"i = {i}: Test Accuracy: {accuracy:.4f}\")\n",
    "    modls.append(model)"
   ]
  },
  {
   "cell_type": "code",
   "execution_count": 14,
   "metadata": {},
   "outputs": [
    {
     "name": "stdout",
     "output_type": "stream",
     "text": [
      "1/1 [==============================] - 0s 121ms/step\n",
      "Prediction for [[4.6000e+04 2.0001e+00 1.0800e+04]]: 1.0000\n",
      "1/1 [==============================] - 0s 26ms/step\n",
      "Prediction for [[4.600e+04 1.801e+00 1.080e+04]]: 1.0000\n",
      "1/1 [==============================] - 0s 31ms/step\n",
      "Prediction for [[4.6000e+04 1.5009e+00 1.0800e+04]]: 0.9999\n",
      "1/1 [==============================] - 0s 25ms/step\n",
      "Prediction for [[4.60e+04 1.19e+00 1.08e+04]]: 0.9996\n",
      "1/1 [==============================] - 0s 26ms/step\n",
      "Prediction for [[4.60e+04 9.99e-01 1.08e+04]]: 0.9991\n",
      "1/1 [==============================] - 0s 28ms/step\n",
      "Prediction for [[4.60e+04 5.01e-01 1.08e+04]]: 0.9892\n",
      "1/1 [==============================] - 0s 33ms/step\n",
      "Prediction for [[4.600e+04 1.013e-01 1.080e+04]]: 0.9272\n",
      "1/1 [==============================] - 0s 34ms/step\n",
      "Prediction for [[4.60e+04 9.01e-02 1.08e+04]]: 0.9233\n",
      "1/1 [==============================] - 0s 17ms/step\n",
      "Prediction for [[4.60e+04 5.01e-02 1.08e+04]]: 0.9080\n",
      "1/1 [==============================] - 0s 19ms/step\n",
      "Prediction for [[4.60e+04 1.01e-02 1.08e+04]]: 0.8902\n",
      "1/1 [==============================] - 0s 30ms/step\n",
      "Prediction for [[4.60e+04 8.10e-03 1.08e+04]]: 0.8894\n",
      "1/1 [==============================] - 0s 35ms/step\n",
      "Prediction for [[4.60e+04 5.10e-03 1.08e+04]]: 0.8878\n",
      "1/1 [==============================] - 0s 31ms/step\n",
      "Prediction for [[4.60e+04 1.10e-03 1.08e+04]]: 0.8860\n",
      "1/1 [==============================] - 0s 18ms/step\n",
      "Prediction for [[4.60e+04 1.00e-04 1.08e+04]]: 0.8853\n",
      "1/1 [==============================] - 0s 27ms/step\n",
      "Prediction for [[4.60e+04 9.00e-05 1.08e+04]]: 0.8853\n"
     ]
    }
   ],
   "source": [
    "# Пример предсказания\n",
    "examples = np.array([[[46000, 2.0001, 10800]],\n",
    "                    [[46000, 1.801, 10800]],\n",
    "                    [[46000, 1.5009, 10800]],\n",
    "                    [[46000, 1.19, 10800]],\n",
    "                    [[46000, 0.999, 10800]],\n",
    "                    [[46000, 0.501, 10800]],\n",
    "                    [[46000, 0.1013, 10800]],\n",
    "                    [[46000, 0.0901, 10800]],\n",
    "                    [[46000, 0.0501, 10800]],\n",
    "                    [[46000, 0.0101, 10800]],\n",
    "                    [[46000, 0.0081, 10800]],\n",
    "                    [[46000, 0.0051, 10800]],\n",
    "                    [[46000, 0.0011, 10800]],\n",
    "                    [[46000, 0.0001, 10800]],\n",
    "                    [[46000, 0.00009, 10800]]])\n",
    "for example in examples:\n",
    "    prediction = model.predict(example)\n",
    "    print(f\"Prediction for {example}: {prediction[0][0]:.4f}\")"
   ]
  },
  {
   "cell_type": "code",
   "execution_count": 15,
   "metadata": {},
   "outputs": [
    {
     "name": "stdout",
     "output_type": "stream",
     "text": [
      "13300 [9.8000000e+04 2.5042953e-02 1.0400000e+04] 1\n",
      "13301 [1.0600000e+04 2.7397912e+00 1.0000000e+04] 1\n",
      "13302 [1.040000e+04 2.275697e+00 1.020000e+04] 1\n",
      "13303 [1.0100e+04 2.5527e-01 9.9000e+04] 0\n",
      "13304 [1.180000e+04 3.273456e-02 1.180000e+04] 1\n",
      "13305 [9.8000000e+04 4.5029805e-03 1.1100000e+04] 1\n",
      "13306 [1.0800000e+04 3.1813398e-02 1.0200000e+04] 1\n",
      "13307 [1.0000e+04 3.0599e-01 1.1200e+04] 0\n",
      "13308 [9.800000e+04 2.558433e-02 1.200000e+04] 1\n",
      "13309 [9.8000000e+04 3.8126774e+00 9.9000000e+04] 1\n",
      "13310 [1.0100000e+04 1.4943664e-02 1.1000000e+04] 1\n",
      "13311 [1.1400000e+04 3.5326176e+00 1.0700000e+04] 1\n",
      "13312 [1.1000e+04 1.6207e-01 1.0900e+04] 0\n",
      "13313 [9.8000000e+04 3.5635824e+00 6.5506000e+04] 1\n",
      "13314 [9.9000000e+04 2.0554352e+00 1.2200000e+04] 1\n",
      "13315 [1.1000e+04 3.3217e-01 9.7000e+04] 0\n",
      "13316 [1.020000e+04 4.746144e-02 1.100000e+04] 1\n",
      "13317 [1.060e+04 9.393e-02 1.180e+04] 0\n",
      "13318 [1.2100e+04 1.3005e-01 1.2100e+04] 0\n",
      "13319 [9.800000e+04 3.560791e-02 9.800000e+04] 1\n",
      "13320 [6.5506000e+04 4.7812212e-02 4.3000000e+04] 1\n",
      "13321 [1.0400000e+04 2.2619575e-02 1.0400000e+04] 1\n",
      "13322 [6.5506e+04 1.9222e-01 6.0000e+04] 0\n",
      "13323 [1.0200e+04 1.3996e-01 1.1000e+04] 0\n",
      "13324 [4.8000e+04 5.3574e-01 6.5506e+04] 0\n",
      "13325 [1.1800000e+04 2.7006993e-03 9.8000000e+04] 1\n",
      "13326 [1.0400000e+04 1.9582534e-02 1.0200000e+04] 1\n",
      "13327 [1.1800000e+04 1.9839885e-02 1.1800000e+04] 1\n",
      "13328 [1.2200000e+04 2.6964497e-02 1.2200000e+04] 1\n",
      "13329 [1.0600000e+04 2.1612387e+00 1.0000000e+04] 1\n",
      "13330 [9.8000e+04 1.8704e-01 1.2100e+04] 0\n",
      "13331 [1.010e+04 3.121e-01 1.050e+04] 0\n",
      "13332 [8.500000e+04 2.931444e-02 7.300000e+04] 1\n",
      "13333 [1.0600e+04 4.0516e-01 1.1200e+04] 0\n",
      "13334 [1.0200000e+04 2.7552152e+00 4.6000000e+04] 1\n",
      "13335 [1.1600000e+04 3.6395116e+00 1.2100000e+04] 1\n",
      "13336 [9.9000000e+04 3.0400388e+00 1.1000000e+04] 1\n",
      "13337 [4.60e+04 4.36e-01 1.03e+04] 0\n",
      "13338 [1.050000e+04 3.450967e-02 1.020000e+04] 1\n",
      "13339 [6.550500e+04 1.904692e-02 7.600000e+04] 1\n",
      "13340 [1.0400e+04 2.1298e-01 1.0600e+04] 0\n",
      "13341 [1.0600000e+04 3.3281308e-02 1.0700000e+04] 1\n",
      "13342 [1.160000e+04 8.780318e-03 1.100000e+04] 1\n",
      "13343 [9.800000e+04 7.375737e-03 1.030000e+04] 1\n",
      "13344 [1.0500000e+04 3.1691647e+00 1.1000000e+04] 1\n",
      "13345 [1.1000000e+04 7.2107563e-04 1.0200000e+04] 1\n",
      "13346 [6.3000e+04 4.9882e-01 4.9000e+04] 0\n",
      "13347 [1.0100000e+04 4.5379948e-02 1.0100000e+04] 1\n",
      "13348 [1.0600000e+04 2.9076913e-02 1.1700000e+04] 1\n",
      "13349 [1.060e+04 4.221e-02 1.180e+04] 1\n",
      "13350 [1.0100000e+04 3.2742057e+00 9.9000000e+04] 1\n",
      "13351 [1.2100000e+04 2.8454324e-02 1.2100000e+04] 1\n",
      "13352 [1.0300000e+04 5.2642175e-03 1.0400000e+04] 1\n",
      "13353 [9.8000000e+04 2.5749713e-02 9.1000000e+04] 1\n",
      "13354 [1.11e+04 1.61e-01 1.19e+04] 0\n",
      "13355 [6.5506000e+04 3.6521964e+00 6.3000000e+04] 1\n",
      "13356 [9.900000e+04 2.976408e+00 1.080000e+04] 1\n",
      "13357 [1.060000e+04 2.820415e+00 1.200000e+04] 1\n",
      "13358 [1.1000000e+04 2.2338517e-02 1.0600000e+04] 1\n",
      "13359 [4.4000000e+04 1.1896595e-02 1.0600000e+04] 1\n",
      "13360 [1.1400e+04 1.9802e-01 1.0200e+04] 0\n",
      "13361 [9.9000000e+04 3.1857934e+00 1.1000000e+04] 1\n",
      "13362 [1.2100e+04 1.1967e-01 1.0200e+04] 0\n",
      "13363 [1.020000e+04 3.033899e+00 1.030000e+04] 1\n",
      "13364 [1.120000e+04 3.746588e+00 1.010000e+04] 1\n",
      "13365 [1.2100e+04 1.2005e-01 1.1500e+04] 0\n",
      "13366 [1.1000e+04 1.7638e-01 1.1600e+04] 0\n",
      "13367 [1.0400000e+04 1.3342315e-02 1.0600000e+04] 1\n",
      "13368 [1.0500000e+04 2.7031112e+00 1.1000000e+04] 1\n",
      "13369 [1.1400000e+04 5.2187014e-03 1.0200000e+04] 1\n",
      "13370 [9.900000e+04 3.203606e-02 1.040000e+04] 1\n",
      "13371 [1.1500000e+04 3.0877378e-02 1.1500000e+04] 1\n",
      "13372 [1.0500000e+04 3.4573064e+00 1.1000000e+04] 1\n",
      "13373 [9.8000000e+04 3.5261276e+00 9.8000000e+04] 1\n",
      "13374 [1.2200000e+04 4.1759785e-02 1.2200000e+04] 1\n",
      "13375 [4.6000e+04 8.8903e-01 4.8000e+04] 0\n",
      "13376 [1.0500000e+04 3.8422003e+00 9.9000000e+04] 1\n",
      "13377 [1.1400000e+04 4.0046282e-02 1.0200000e+04] 1\n",
      "13378 [1.160000e+04 3.584443e+00 9.900000e+04] 1\n",
      "13379 [5.3000000e+04 1.8512984e-03 5.6000000e+04] 1\n",
      "13380 [1.0000e+04 1.1501e-01 9.8000e+04] 0\n",
      "13381 [4.20000e+04 8.60203e-03 9.70000e+04] 1\n",
      "13382 [1.1500000e+04 5.9835827e-03 1.1500000e+04] 1\n",
      "13383 [1.0300000e+04 3.1717682e+00 1.0400000e+04] 1\n",
      "13384 [1.2100000e+04 1.8072616e-04 1.2100000e+04] 1\n",
      "13385 [9.8000e+04 1.2501e-01 1.1600e+04] 0\n",
      "13386 [1.0800000e+04 3.3287404e+00 1.0200000e+04] 1\n",
      "13387 [1.1400000e+04 2.6579034e-02 1.0200000e+04] 1\n",
      "13388 [5.0000000e+04 4.0694755e-02 5.0000000e+04] 1\n",
      "13389 [1.0000000e+04 3.4258652e-02 1.0200000e+04] 1\n",
      "13390 [8.700000e+04 3.869619e+00 6.800000e+04] 1\n",
      "13391 [1.1800000e+04 3.1052215e+00 1.1600000e+04] 1\n",
      "13392 [1.000000e+04 3.939622e+00 1.020000e+04] 1\n",
      "13393 [1.1100000e+04 3.3996055e+00 9.9000000e+04] 1\n",
      "13394 [9.8000e+04 5.6207e-01 1.0500e+04] 0\n",
      "13395 [1.1400000e+04 3.8327656e+00 1.0700000e+04] 1\n",
      "13396 [9.200000e+04 6.065014e-03 9.200000e+04] 1\n",
      "13397 [4.4000000e+04 2.3074508e-02 1.1100000e+04] 1\n",
      "13398 [1.1400000e+04 1.2863067e-02 1.0600000e+04] 1\n",
      "13399 [1.1500e+04 1.0383e-01 1.1600e+04] 0\n"
     ]
    }
   ],
   "source": [
    "for i in range(13300, 13400):\n",
    "    print(i, X_train[i], y_train[i])"
   ]
  },
  {
   "cell_type": "code",
   "execution_count": 16,
   "metadata": {},
   "outputs": [
    {
     "data": {
      "text/plain": [
       "(47698,)"
      ]
     },
     "execution_count": 16,
     "metadata": {},
     "output_type": "execute_result"
    }
   ],
   "source": [
    "mask = (X[:, 1] < 0.05)\n",
    "mins = X[mask, 1]\n",
    "mins.shape"
   ]
  },
  {
   "cell_type": "code",
   "execution_count": 17,
   "metadata": {},
   "outputs": [
    {
     "data": {
      "text/plain": [
       "array([0.00010031, 0.00010037, 0.00010156, ..., 0.04999673, 0.04999759,\n",
       "       0.04999995], dtype=float32)"
      ]
     },
     "execution_count": 17,
     "metadata": {},
     "output_type": "execute_result"
    }
   ],
   "source": [
    "mins.sort()\n",
    "mins"
   ]
  },
  {
   "cell_type": "code",
   "execution_count": 18,
   "metadata": {},
   "outputs": [
    {
     "name": "stdout",
     "output_type": "stream",
     "text": [
      "0.00010030776\n"
     ]
    }
   ],
   "source": [
    "print(np.min(mins))"
   ]
  },
  {
   "cell_type": "code",
   "execution_count": null,
   "metadata": {},
   "outputs": [],
   "source": []
  }
 ],
 "metadata": {
  "kernelspec": {
   "display_name": "tf-2-10",
   "language": "python",
   "name": "tf-2-10"
  },
  "language_info": {
   "codemirror_mode": {
    "name": "ipython",
    "version": 3
   },
   "file_extension": ".py",
   "mimetype": "text/x-python",
   "name": "python",
   "nbconvert_exporter": "python",
   "pygments_lexer": "ipython3",
   "version": "3.10.13"
  }
 },
 "nbformat": 4,
 "nbformat_minor": 2
}
