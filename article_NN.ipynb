{
 "cells": [
  {
   "cell_type": "code",
   "execution_count": null,
   "metadata": {},
   "outputs": [],
   "source": [
    "import tensorflow as tf\n",
    "from tensorflow.keras import layers, models, callbacks, optimizers, losses, metrics\n",
    "from sklearn.model_selection import train_test_split\n",
    "import numpy as np\n",
    "import matplotlib.pyplot as plt"
   ]
  },
  {
   "cell_type": "code",
   "execution_count": null,
   "metadata": {},
   "outputs": [],
   "source": [
    "def get_X(datasets_file: str, sample_length: int):\n",
    "    with open(datasets_file, \"r\") as file:\n",
    "        records = [line.rstrip().split() for line in file]\n",
    "    X = []\n",
    "    for line in records:\n",
    "        n = len(line)\n",
    "        if n >= sample_length:\n",
    "            # print(line)\n",
    "            for i in range(0, n - sample_length + 1, 2):\n",
    "                # print(f\"--> i={i} : {line[i : i + sample_length]}\")\n",
    "                X.append(\n",
    "                    np.array(\n",
    "                        [float(f\"{float(x):.4f}\") for x in line[i : i + sample_length]]\n",
    "                    )\n",
    "                )\n",
    "        # else:\n",
    "        #     x = line[0]\n",
    "        #     X.append(np.array([np.float32(x), np.float32(np.random.uniform(1.0, 4.0)), np.float32(x)]))\n",
    "    X = np.vstack(X)\n",
    "    return X\n",
    "\n",
    "\n",
    "X = get_X(\"datasets.txt\", 3)\n",
    "X.shape"
   ]
  }
 ],
 "metadata": {
  "language_info": {
   "name": "python"
  }
 },
 "nbformat": 4,
 "nbformat_minor": 2
}
