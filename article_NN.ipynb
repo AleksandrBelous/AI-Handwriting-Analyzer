{
 "cells": [
  {
   "cell_type": "code",
   "execution_count": 1,
   "metadata": {},
   "outputs": [
    {
     "name": "stderr",
     "output_type": "stream",
     "text": [
      "2024-08-10 20:02:24.690119: I tensorflow/core/platform/cpu_feature_guard.cc:182] This TensorFlow binary is optimized to use available CPU instructions in performance-critical operations.\n",
      "To enable the following instructions: SSE4.1 SSE4.2 AVX AVX2 FMA, in other operations, rebuild TensorFlow with the appropriate compiler flags.\n"
     ]
    }
   ],
   "source": [
    "import tensorflow as tf\n",
    "from tensorflow.keras import layers, models, callbacks, optimizers, losses, metrics\n",
    "from sklearn.model_selection import train_test_split\n",
    "import numpy as np\n",
    "import matplotlib.pyplot as plt"
   ]
  },
  {
   "cell_type": "code",
   "execution_count": 2,
   "metadata": {},
   "outputs": [],
   "source": [
    "def get_X(datasets_file: str, sample_length: int):\n",
    "    with open(datasets_file, \"r\") as file:\n",
    "        records = [line.rstrip().split() for line in file]\n",
    "    X = []\n",
    "    for line in records:\n",
    "        n = len(line)\n",
    "        if n >= sample_length:\n",
    "            # print(line)\n",
    "            for i in range(0, n - sample_length + 1, 2):\n",
    "                # print(f\"--> i={i} : {line[i : i + sample_length]}\")\n",
    "                X.append(\n",
    "                    np.array(\n",
    "                        [float(f\"{float(x):.4f}\") for x in line[i : i + sample_length]]\n",
    "                    )\n",
    "                )\n",
    "        # else:\n",
    "        #     x = line[0]\n",
    "        #     X.append(np.array([np.float32(x), np.float32(np.random.uniform(1.0, 4.0)), np.float32(x)]))\n",
    "    X = np.vstack(X)\n",
    "    return X"
   ]
  },
  {
   "cell_type": "code",
   "execution_count": 3,
   "metadata": {},
   "outputs": [],
   "source": [
    "def get_y(X, y_correct):\n",
    "    return np.full(X.shape[0], y_correct, dtype=int).reshape(-1, 1)"
   ]
  },
  {
   "cell_type": "code",
   "execution_count": 4,
   "metadata": {},
   "outputs": [],
   "source": [
    "sample_length = 3"
   ]
  },
  {
   "cell_type": "code",
   "execution_count": 5,
   "metadata": {},
   "outputs": [
    {
     "data": {
      "text/plain": [
       "(101849, 3)"
      ]
     },
     "execution_count": 5,
     "metadata": {},
     "output_type": "execute_result"
    }
   ],
   "source": [
    "X = get_X(\"datasets.txt\", sample_length)\n",
    "X.shape"
   ]
  },
  {
   "cell_type": "code",
   "execution_count": 6,
   "metadata": {},
   "outputs": [
    {
     "data": {
      "text/plain": [
       "array([[1.0400e+04, 1.6660e-01, 1.1600e+04],\n",
       "       [1.1600e+04, 1.0763e+00, 1.1100e+04],\n",
       "       [1.1100e+04, 1.7700e-01, 1.1200e+04],\n",
       "       ...,\n",
       "       [1.0700e+04, 1.5140e-01, 1.0900e+04],\n",
       "       [1.0900e+04, 2.3430e-01, 1.2100e+04],\n",
       "       [1.2100e+04, 1.8200e-01, 1.0600e+04]])"
      ]
     },
     "execution_count": 6,
     "metadata": {},
     "output_type": "execute_result"
    }
   ],
   "source": [
    "X"
   ]
  },
  {
   "cell_type": "code",
   "execution_count": 7,
   "metadata": {},
   "outputs": [
    {
     "data": {
      "text/plain": [
       "(101849, 1)"
      ]
     },
     "execution_count": 7,
     "metadata": {},
     "output_type": "execute_result"
    }
   ],
   "source": [
    "y = get_y(X, 0)\n",
    "y.shape"
   ]
  },
  {
   "cell_type": "code",
   "execution_count": 8,
   "metadata": {},
   "outputs": [
    {
     "data": {
      "text/plain": [
       "array([[0],\n",
       "       [0],\n",
       "       [0],\n",
       "       ...,\n",
       "       [0],\n",
       "       [0],\n",
       "       [0]])"
      ]
     },
     "execution_count": 8,
     "metadata": {},
     "output_type": "execute_result"
    }
   ],
   "source": [
    "y"
   ]
  },
  {
   "cell_type": "code",
   "execution_count": 9,
   "metadata": {},
   "outputs": [
    {
     "data": {
      "text/plain": [
       "(97978, 3)"
      ]
     },
     "execution_count": 9,
     "metadata": {},
     "output_type": "execute_result"
    }
   ],
   "source": [
    "X_bad = get_X(\"datasets_bad_article.txt\", sample_length)\n",
    "X_bad.shape"
   ]
  },
  {
   "cell_type": "code",
   "execution_count": 10,
   "metadata": {},
   "outputs": [
    {
     "data": {
      "text/plain": [
       "(97978, 1)"
      ]
     },
     "execution_count": 10,
     "metadata": {},
     "output_type": "execute_result"
    }
   ],
   "source": [
    "y_bad = get_y(X_bad, 1)\n",
    "y_bad.shape"
   ]
  },
  {
   "cell_type": "code",
   "execution_count": 11,
   "metadata": {},
   "outputs": [
    {
     "data": {
      "text/plain": [
       "(199827, 3)"
      ]
     },
     "execution_count": 11,
     "metadata": {},
     "output_type": "execute_result"
    }
   ],
   "source": [
    "X = np.vstack(tup=(X, X_bad))\n",
    "X.shape"
   ]
  },
  {
   "cell_type": "code",
   "execution_count": 12,
   "metadata": {},
   "outputs": [
    {
     "data": {
      "text/plain": [
       "(199827, 1)"
      ]
     },
     "execution_count": 12,
     "metadata": {},
     "output_type": "execute_result"
    }
   ],
   "source": [
    "y = np.vstack(tup=(y, y_bad))\n",
    "y.shape"
   ]
  },
  {
   "cell_type": "code",
   "execution_count": 14,
   "metadata": {},
   "outputs": [
    {
     "data": {
      "text/plain": [
       "(199827,)"
      ]
     },
     "execution_count": 14,
     "metadata": {},
     "output_type": "execute_result"
    }
   ],
   "source": [
    "y = y.reshape(-1,)\n",
    "y.shape"
   ]
  },
  {
   "cell_type": "code",
   "execution_count": 13,
   "metadata": {},
   "outputs": [],
   "source": [
    "X_train, X_test, y_train, y_test = train_test_split(\n",
    "    X, y, train_size=0.8, random_state=42\n",
    ")"
   ]
  },
  {
   "cell_type": "code",
   "execution_count": 14,
   "metadata": {},
   "outputs": [
    {
     "name": "stdout",
     "output_type": "stream",
     "text": [
      "(159861, 3) (159861, 1) (39966, 3) (39966, 1)\n"
     ]
    }
   ],
   "source": [
    "print(X_train.shape, y_train.shape, X_test.shape, y_test.shape)"
   ]
  },
  {
   "cell_type": "code",
   "execution_count": 16,
   "metadata": {},
   "outputs": [
    {
     "name": "stdout",
     "output_type": "stream",
     "text": [
      "Epoch 1/50\n",
      "854/875 [============================>.] - ETA: 0s - loss: 71.8756 - accuracy: 0.5066\n",
      "Epoch 1: val_accuracy improved from -inf to 0.49242, saving model to ./article_models/_0.492421.h5\n",
      "875/875 [==============================] - 4s 4ms/step - loss: 70.7831 - accuracy: 0.5065 - val_loss: 31.8562 - val_accuracy: 0.4924\n",
      "Epoch 2/50\n",
      "875/875 [==============================] - ETA: 0s - loss: 37.8167 - accuracy: 0.5050\n",
      "Epoch 2: val_accuracy improved from 0.49242 to 0.53396, saving model to ./article_models/_0.533956.h5\n",
      "875/875 [==============================] - 5s 5ms/step - loss: 37.8167 - accuracy: 0.5050 - val_loss: 19.2326 - val_accuracy: 0.5340\n",
      "Epoch 3/50\n",
      "870/875 [============================>.] - ETA: 0s - loss: 34.2386 - accuracy: 0.5090\n",
      "Epoch 3: val_accuracy did not improve from 0.53396\n",
      "875/875 [==============================] - 3s 4ms/step - loss: 34.2113 - accuracy: 0.5088 - val_loss: 15.5052 - val_accuracy: 0.5118\n",
      "Epoch 4/50\n",
      "856/875 [============================>.] - ETA: 0s - loss: 32.5825 - accuracy: 0.5130\n",
      "Epoch 4: val_accuracy did not improve from 0.53396\n",
      "875/875 [==============================] - 4s 4ms/step - loss: 32.2233 - accuracy: 0.5130 - val_loss: 12.3546 - val_accuracy: 0.5104\n",
      "Epoch 5/50\n",
      "864/875 [============================>.] - ETA: 0s - loss: 37.0303 - accuracy: 0.5102\n",
      "Epoch 5: val_accuracy did not improve from 0.53396\n",
      "875/875 [==============================] - 3s 4ms/step - loss: 37.1480 - accuracy: 0.5099 - val_loss: 95.6943 - val_accuracy: 0.5104\n",
      "Epoch 6/50\n",
      "872/875 [============================>.] - ETA: 0s - loss: 31.3842 - accuracy: 0.5178\n",
      "Epoch 6: val_accuracy did not improve from 0.53396\n",
      "875/875 [==============================] - 4s 4ms/step - loss: 31.3662 - accuracy: 0.5179 - val_loss: 9.6263 - val_accuracy: 0.5139\n",
      "Epoch 7/50\n",
      "864/875 [============================>.] - ETA: 0s - loss: 24.7449 - accuracy: 0.5212Restoring model weights from the end of the best epoch: 2.\n",
      "\n",
      "Epoch 7: val_accuracy did not improve from 0.53396\n",
      "875/875 [==============================] - 4s 5ms/step - loss: 24.7574 - accuracy: 0.5213 - val_loss: 38.9190 - val_accuracy: 0.4924\n",
      "Epoch 7: early stopping\n",
      "1249/1249 [==============================] - 3s 3ms/step - loss: 18.6565 - accuracy: 0.5339\n",
      "Test Loss: 18.65651512145996\n",
      "Test Accuracy: 0.5338537693023682\n"
     ]
    }
   ],
   "source": [
    "# Создание модели\n",
    "def create_model(input_dim):\n",
    "    model = tf.keras.Sequential()\n",
    "    model.add(tf.keras.layers.Input(shape=(input_dim,)))\n",
    "    model.add(tf.keras.layers.Dense(128, activation=\"relu\"))\n",
    "    # model.add(tf.keras.layers.Dense(64, activation='relu'))\n",
    "    model.add(tf.keras.layers.Dense(1, activation=\"sigmoid\"))\n",
    "    model.compile(\n",
    "        optimizer=tf.keras.optimizers.Adam(learning_rate=0.001),\n",
    "        loss=\"binary_crossentropy\",\n",
    "        metrics=[\"accuracy\"],\n",
    "    )\n",
    "    return model\n",
    "\n",
    "\n",
    "# Создание модели\n",
    "model = create_model(X_train.shape[1])\n",
    "\n",
    "# Коллбэки\n",
    "early_stop = callbacks.EarlyStopping(\n",
    "    monitor=\"val_accuracy\", patience=5, restore_best_weights=True, mode=\"max\", verbose=1\n",
    ")\n",
    "checkpoints = callbacks.ModelCheckpoint(\n",
    "    filepath=\"./article_models/_{val_accuracy:.6f}.h5\",\n",
    "    monitor=\"val_accuracy\",\n",
    "    save_best_only=True,\n",
    "    mode=\"max\",\n",
    "    verbose=1,\n",
    ")\n",
    "# Обучение модели\n",
    "history = model.fit(\n",
    "    X_train,\n",
    "    y_train,\n",
    "    epochs=50,\n",
    "    batch_size=128,\n",
    "    validation_split=0.3,\n",
    "    callbacks=[early_stop, checkpoints],\n",
    "    verbose=1,\n",
    ")\n",
    "\n",
    "# Оценка модели на тестовой выборке\n",
    "test_loss, test_accuracy = model.evaluate(X_test, y_test)\n",
    "print(f\"Test Loss: {test_loss}\")\n",
    "print(f\"Test Accuracy: {test_accuracy}\")"
   ]
  },
  {
   "cell_type": "code",
   "execution_count": 17,
   "metadata": {},
   "outputs": [
    {
     "data": {
      "image/png": "[encoded data removed]",
      "text/plain": [
       "<Figure size 1200x400 with 2 Axes>"
      ]
     },
     "metadata": {},
     "output_type": "display_data"
    }
   ],
   "source": [
    "# Сохранение кривых обучения и точности\n",
    "plt.figure(figsize=(12, 4))\n",
    "\n",
    "# Кривая потерь\n",
    "plt.subplot(1, 2, 1)\n",
    "plt.plot(history.history[\"loss\"], label=\"потери на тренировачных данных\")\n",
    "plt.plot(history.history[\"val_loss\"], label=\"потери на валидационных данных\")\n",
    "plt.title(\"Изменение потерь\")\n",
    "plt.xlabel(\"Эпохи\")\n",
    "plt.ylabel(\"Потери\")\n",
    "plt.legend()\n",
    "\n",
    "# Кривая точности\n",
    "plt.subplot(1, 2, 2)\n",
    "plt.plot(history.history[\"accuracy\"], label=\"тренировочная точность\")\n",
    "plt.plot(history.history[\"val_accuracy\"], label=\"валидационная точность\")\n",
    "plt.title(\"Изменение точности\")\n",
    "plt.xlabel(\"Эпохи\")\n",
    "plt.ylabel(\"Точность\")\n",
    "plt.legend()\n",
    "\n",
    "acc = history.history[\"val_accuracy\"][-1]\n",
    "plt.savefig(f\"training_curves_{acc}.png\")\n",
    "plt.show()"
   ]
  }
 ],
 "metadata": {
  "kernelspec": {
   "display_name": "base",
   "language": "python",
   "name": "python3"
  },
  "language_info": {
   "codemirror_mode": {
    "name": "ipython",
    "version": 3
   },
   "file_extension": ".py",
   "mimetype": "text/x-python",
   "name": "python",
   "nbconvert_exporter": "python",
   "pygments_lexer": "ipython3",
   "version": "3.11.5"
  }
 },
 "nbformat": 4,
 "nbformat_minor": 2
}
