{
 "cells": [
  {
   "cell_type": "code",
   "execution_count": 1,
   "metadata": {},
   "outputs": [
    {
     "name": "stdout",
     "output_type": "stream",
     "text": [
      "[[0.37454012 0.95071431 0.73199394]\n",
      " [0.59865848 0.15601864 0.15599452]\n",
      " [0.05808361 0.86617615 0.60111501]\n",
      " [0.70807258 0.02058449 0.96990985]\n",
      " [0.83244264 0.21233911 0.18182497]\n",
      " [0.18340451 0.30424224 0.52475643]\n",
      " [0.43194502 0.29122914 0.61185289]\n",
      " [0.13949386 0.29214465 0.36636184]\n",
      " [0.45606998 0.78517596 0.19967378]\n",
      " [0.51423444 0.59241457 0.04645041]]\n",
      "Epoch 1/3\n"
     ]
    },
    {
     "name": "stderr",
     "output_type": "stream",
     "text": [
      "2024-05-20 21:53:55.969088: I tensorflow/core/common_runtime/process_util.cc:146] Creating new thread pool with default inter op setting: 2. Tune using inter_op_parallelism_threads for best performance.\n"
     ]
    },
    {
     "name": "stdout",
     "output_type": "stream",
     "text": [
      "800/800 [==============================] - 6s 6ms/step - loss: 0.2845 - accuracy: 0.8982 - val_loss: 0.0981 - val_accuracy: 0.9886\n",
      "Epoch 2/3\n",
      "800/800 [==============================] - 4s 5ms/step - loss: 0.0732 - accuracy: 0.9866 - val_loss: 0.0588 - val_accuracy: 0.9866\n",
      "Epoch 3/3\n",
      "800/800 [==============================] - 4s 5ms/step - loss: 0.0493 - accuracy: 0.9912 - val_loss: 0.0446 - val_accuracy: 0.9891\n",
      "250/250 [==============================] - 1s 3ms/step - loss: 0.0433 - accuracy: 0.9910\n",
      "Test Accuracy: 0.9910\n",
      "1/1 [==============================] - 0s 104ms/step\n",
      "Prediction for [[0.5 0.5 0.6]]: 0.9285\n"
     ]
    }
   ],
   "source": [
    "import numpy as np\n",
    "import tensorflow as tf\n",
    "from tensorflow.keras.models import Sequential\n",
    "from tensorflow.keras.layers import Dense\n",
    "\n",
    "# Генерация данных для примера\n",
    "np.random.seed(42)\n",
    "X = np.random.rand(40000, 3)\n",
    "y = (X.sum(axis=1) > 1.5).astype(int)  # Пример: если сумма трех чисел больше 1.5, то выход 1, иначе 0\n",
    "\n",
    "# Разделение данных на обучающие и тестовые\n",
    "train_size = int(0.8 * X.shape[0])\n",
    "X_train, X_test = X[:train_size], X[train_size:]\n",
    "y_train, y_test = y[:train_size], y[train_size:]\n",
    "\n",
    "print(X_train[0:10])\n",
    "# Создание модели\n",
    "model = Sequential([\n",
    "    Dense(16, input_shape=(3,), activation='relu'),\n",
    "    Dense(16, activation='relu'),\n",
    "    Dense(1, activation='sigmoid')\n",
    "])\n",
    "\n",
    "# Компиляция модели\n",
    "model.compile(optimizer='adam', loss='binary_crossentropy', metrics=['accuracy'])\n",
    "\n",
    "# Обучение модели\n",
    "model.fit(X_train, y_train, epochs=3, batch_size=32, validation_split=0.2)\n",
    "\n",
    "# Оценка модели\n",
    "loss, accuracy = model.evaluate(X_test, y_test)\n",
    "print(f\"Test Accuracy: {accuracy:.4f}\")\n",
    "\n",
    "# Пример предсказания\n",
    "example = np.array([[0.5, 0.5, 0.6]])\n",
    "prediction = model.predict(example)\n",
    "print(f\"Prediction for {example}: {prediction[0][0]:.4f}\")\n"
   ]
  },
  {
   "cell_type": "code",
   "execution_count": 11,
   "metadata": {},
   "outputs": [
    {
     "name": "stdout",
     "output_type": "stream",
     "text": [
      "До замены:\n",
      "[[1.0900e+04 9.9999e+04 1.1100e+04]\n",
      " [1.0800e+04 1.1979e-01 9.7000e+04]\n",
      " [4.6000e+04 9.9999e+04 1.0800e+04]\n",
      " [1.0800e+04 1.1979e-01 9.7000e+04]]\n",
      "\n",
      "После замены:\n",
      "[[1.09000000e+04 3.48075891e+00 1.11000000e+04]\n",
      " [1.08000000e+04 1.19790000e-01 9.70000000e+04]\n",
      " [4.60000000e+04 2.68808413e+00 1.08000000e+04]\n",
      " [1.08000000e+04 1.19790000e-01 9.70000000e+04]]\n"
     ]
    }
   ],
   "source": [
    "import numpy as np\n",
    "\n",
    "def replace_99999_with_random(X):\n",
    "    # Создаем маску, которая находит все элементы, равные 99999.0\n",
    "    mask = (X == 99999.0)\n",
    "    # Заменяем все элементы, которые равны 99999.0, на случайные значения в диапазоне от 2.0 до 4.0\n",
    "    X[mask] = np.float32(np.random.uniform(2.0, 4.0, size=np.sum(mask)))\n",
    "    return X\n",
    "\n",
    "# Пример использования функции\n",
    "X = np.array([[10900, 99999.0, 11100],\n",
    "              [10800, 0.11979, 97000],\n",
    "              [46000, 99999.0, 10800],\n",
    "              [10800, 0.11979, 97000]])\n",
    "print(\"До замены:\")\n",
    "print(X)\n",
    "\n",
    "X = replace_99999_with_random(X)\n",
    "print(\"\\nПосле замены:\")\n",
    "print(X)\n"
   ]
  },
  {
   "cell_type": "code",
   "execution_count": 12,
   "metadata": {},
   "outputs": [
    {
     "name": "stdout",
     "output_type": "stream",
     "text": [
      "0.038070334065376625\n",
      "0.019030896975480015\n",
      "0.008833227806582463\n",
      "0.04266571278263416\n",
      "0.0026879728444077385\n",
      "0.018342032322360497\n",
      "0.033659683996508975\n",
      "0.04432953982602454\n",
      "0.008139178769019043\n",
      "0.004893137804048526\n",
      "0.015176673793069877\n",
      "0.012883891313127779\n",
      "0.03474273774034883\n",
      "0.011959543774375598\n",
      "0.031236366610212014\n",
      "0.03283472644519928\n",
      "0.0402986557099916\n",
      "0.03021081768419995\n",
      "0.046057058913210054\n",
      "0.034635622185700786\n"
     ]
    }
   ],
   "source": [
    "for i in range(20):\n",
    "    print(np.random.uniform(0.0001, 0.05))"
   ]
  }
 ],
 "metadata": {
  "kernelspec": {
   "display_name": "tf",
   "language": "python",
   "name": "tf"
  },
  "language_info": {
   "codemirror_mode": {
    "name": "ipython",
    "version": 3
   },
   "file_extension": ".py",
   "mimetype": "text/x-python",
   "name": "python",
   "nbconvert_exporter": "python",
   "pygments_lexer": "ipython3",
   "version": "3.11.5"
  }
 },
 "nbformat": 4,
 "nbformat_minor": 2
}
